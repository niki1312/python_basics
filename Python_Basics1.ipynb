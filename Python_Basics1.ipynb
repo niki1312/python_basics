{
 "cells": [
  {
   "cell_type": "markdown",
   "id": "947a018c",
   "metadata": {},
   "source": [
    "# PYTHON BASICS"
   ]
  },
  {
   "cell_type": "markdown",
   "id": "812b8b45",
   "metadata": {},
   "source": [
    "* Python is a popular programming language.\n",
    "\n",
    "* Python can be used on a server to create web applications."
   ]
  },
  {
   "cell_type": "code",
   "execution_count": 1,
   "id": "2641292e",
   "metadata": {},
   "outputs": [
    {
     "name": "stdout",
     "output_type": "stream",
     "text": [
      "Hello, World!\n"
     ]
    }
   ],
   "source": [
    "#syntax\n",
    "print(\"Hello, World!\")"
   ]
  }
 ],
 "metadata": {
  "kernelspec": {
   "display_name": "Python 3 (ipykernel)",
   "language": "python",
   "name": "python3"
  },
  "language_info": {
   "codemirror_mode": {
    "name": "ipython",
    "version": 3
   },
   "file_extension": ".py",
   "mimetype": "text/x-python",
   "name": "python",
   "nbconvert_exporter": "python",
   "pygments_lexer": "ipython3",
   "version": "3.9.7"
  }
 },
 "nbformat": 4,
 "nbformat_minor": 5
}
